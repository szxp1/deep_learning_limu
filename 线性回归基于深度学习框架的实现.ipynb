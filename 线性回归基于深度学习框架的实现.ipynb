{
 "cells": [
  {
   "cell_type": "code",
   "execution_count": 4,
   "id": "9e106fc4",
   "metadata": {},
   "outputs": [],
   "source": [
    "import torch , numpy as np\n",
    "from torch.utils import data\n",
    "import random\n",
    "import matplotlib.pyplot as plt"
   ]
  },
  {
   "cell_type": "code",
   "execution_count": 3,
   "id": "9831a086",
   "metadata": {},
   "outputs": [
    {
     "data": {
      "text/plain": [
       "(torch.Size([1000, 2]), torch.Size([1000, 1]))"
      ]
     },
     "execution_count": 3,
     "metadata": {},
     "output_type": "execute_result"
    }
   ],
   "source": [
    "#生成个数据集\n",
    "def synthetic_data(w,b, num_examples):\n",
    "    \"生成y=wx+b+噪声\"\n",
    "    X = torch.normal(0,1,(num_examples, len(w)))\n",
    "    y = torch.matmul(X, w)+b\n",
    "    y +=torch.normal(0,0.01,y.shape)\n",
    "    return X, y.reshape(-1, 1)\n",
    "\n",
    "true_w = torch.tensor(([2, -3.4]))\n",
    "true_b = 4.2\n",
    "features, labels = synthetic_data(true_w, true_b, 1000)\n",
    "features.shape, labels.shape"
   ]
  },
  {
   "cell_type": "code",
   "execution_count": 5,
   "id": "f860c5d4",
   "metadata": {},
   "outputs": [],
   "source": [
    "#读取数据集\n",
    "def load_array(data_arrays, batch_size, is_train =True):\n",
    "    \"构造一个pytorch迭代器\"\n",
    "    dataset = data.TensorDataset(*data_arrays)\n",
    "    return data.DataLoader(dataset, batch_size, is_train)\n",
    "\n",
    "batch_size =10\n",
    "data_iter = load_array((features, labels), batch_size)"
   ]
  },
  {
   "cell_type": "code",
   "execution_count": 8,
   "id": "2964d7bf",
   "metadata": {
    "scrolled": true
   },
   "outputs": [
    {
     "name": "stdout",
     "output_type": "stream",
     "text": [
      "tensor([[ 0.6919,  0.6680],\n",
      "        [ 0.5902,  1.4949],\n",
      "        [-0.8719, -0.0312],\n",
      "        [ 0.9119,  1.6818],\n",
      "        [-0.7444,  1.1028],\n",
      "        [-1.6454, -0.8870],\n",
      "        [-0.0134,  0.5195],\n",
      "        [ 0.3800, -0.5076],\n",
      "        [-0.5317, -0.5010],\n",
      "        [ 0.0722,  1.2702]]) False\n"
     ]
    }
   ],
   "source": [
    "for step ,(x,y) in enumerate(data_iter):\n",
    "    print(x, y)\n",
    "    break"
   ]
  },
  {
   "cell_type": "code",
   "execution_count": 28,
   "id": "c7468d12",
   "metadata": {},
   "outputs": [
    {
     "name": "stdout",
     "output_type": "stream",
     "text": [
      "[tensor([[ 1.5884, -1.0816],\n",
      "        [ 0.0987, -1.9068],\n",
      "        [ 1.0551, -0.3409],\n",
      "        [ 0.1337,  2.1166],\n",
      "        [-1.9544,  0.9358],\n",
      "        [-0.6440, -1.5026],\n",
      "        [-0.1950,  0.2906],\n",
      "        [ 0.3930,  0.2760],\n",
      "        [ 0.3485,  1.2801],\n",
      "        [ 1.3077,  0.0649]]), tensor([[11.0398],\n",
      "        [10.8923],\n",
      "        [ 7.4673],\n",
      "        [-2.7340],\n",
      "        [-2.8858],\n",
      "        [ 8.0121],\n",
      "        [ 2.8488],\n",
      "        [ 4.0453],\n",
      "        [ 0.5485],\n",
      "        [ 6.5857]])]\n"
     ]
    }
   ],
   "source": [
    "#查看第一批次数据,iter生成迭代器，next拿第一个\n",
    "print(next(iter(data_iter)))"
   ]
  },
  {
   "cell_type": "code",
   "execution_count": 33,
   "id": "5782b6f6",
   "metadata": {},
   "outputs": [],
   "source": [
    "#定义模型\n",
    "import torch.nn as nn\n",
    "\n",
    "net = nn.Sequential(nn.Linear(2,1))"
   ]
  },
  {
   "cell_type": "code",
   "execution_count": 38,
   "id": "543fd847",
   "metadata": {},
   "outputs": [
    {
     "data": {
      "text/plain": [
       "tensor([0.])"
      ]
     },
     "execution_count": 38,
     "metadata": {},
     "output_type": "execute_result"
    }
   ],
   "source": [
    "#c初始化模型参数\n",
    "net[0].weight.data.normal_(0,0.01)\n",
    "net[0].bias.data.fill_(0)"
   ]
  },
  {
   "cell_type": "code",
   "execution_count": 39,
   "id": "765c5a98",
   "metadata": {},
   "outputs": [],
   "source": [
    "#损失函数 , 默认情况下，返回所有样本损失的平均值\n",
    "loss = nn.MSELoss()"
   ]
  },
  {
   "cell_type": "code",
   "execution_count": 41,
   "id": "fd664da2",
   "metadata": {},
   "outputs": [],
   "source": [
    "#定义优化器\n",
    "trainer = torch.optim.SGD(net.parameters(), lr = 0.03)"
   ]
  },
  {
   "cell_type": "code",
   "execution_count": 45,
   "id": "fc1b4605",
   "metadata": {},
   "outputs": [
    {
     "name": "stdout",
     "output_type": "stream",
     "text": [
      "epoch 1, loss 0.000098\n",
      "epoch 2, loss 0.000098\n",
      "epoch 3, loss 0.000097\n"
     ]
    }
   ],
   "source": [
    "#训练\n",
    "num_epochs = 3\n",
    "for epoch in range(num_epochs):\n",
    "    for X, y in data_iter:\n",
    "        l = loss(net(X), y)\n",
    "        trainer.zero_grad()\n",
    "        l.backward()\n",
    "        trainer.step()\n",
    "    l = loss(net(features), labels)\n",
    "    print(f'epoch {epoch + 1}, loss {l:f}')"
   ]
  },
  {
   "cell_type": "code",
   "execution_count": 51,
   "id": "81df014d",
   "metadata": {},
   "outputs": [
    {
     "name": "stdout",
     "output_type": "stream",
     "text": [
      "w的误差  tensor([-0.0001, -0.0002])\n",
      "b的误差  tensor([-0.0002])\n"
     ]
    }
   ],
   "source": [
    "w = net[0].weight.data\n",
    "print('w的误差 ',true_w - w.reshape(true_w.shape))\n",
    "b = net[0].bias.data\n",
    "print('b的误差 ',true_b - b)"
   ]
  },
  {
   "cell_type": "code",
   "execution_count": null,
   "id": "6ba2b880",
   "metadata": {},
   "outputs": [],
   "source": []
  }
 ],
 "metadata": {
  "kernelspec": {
   "display_name": "PyTorch 2023",
   "language": "python",
   "name": "pytorch_2023"
  },
  "language_info": {
   "codemirror_mode": {
    "name": "ipython",
    "version": 3
   },
   "file_extension": ".py",
   "mimetype": "text/x-python",
   "name": "python",
   "nbconvert_exporter": "python",
   "pygments_lexer": "ipython3",
   "version": "3.10.4"
  }
 },
 "nbformat": 4,
 "nbformat_minor": 5
}
